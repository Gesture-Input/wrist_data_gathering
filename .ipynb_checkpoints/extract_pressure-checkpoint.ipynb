{
 "cells": [
  {
   "cell_type": "code",
   "execution_count": 46,
   "metadata": {},
   "outputs": [],
   "source": [
    "import os\n",
    "import serial\n",
    "import numpy as np\n",
    "import time\n",
    "import heapq"
   ]
  },
  {
   "cell_type": "code",
   "execution_count": 112,
   "metadata": {},
   "outputs": [],
   "source": [
    "class wrist():\n",
    "    def __init__(self,name,length):\n",
    "        self.name = name\n",
    "        self.data_path = os.getcwd() + \"/data/\" + name +\".txt\"\n",
    "        self.length = length\n",
    "        self.data = []\n",
    "        self.ser = serial.Serial('/dev/ttyACM0',9600)\n",
    "        self.gesture = \"\"\n",
    "    \n",
    "    def get_data(self):\n",
    "        if(not os.path.exists(self.data_path)):\n",
    "            print(\"file not exists\")\n",
    "            return False\n",
    "        data = open(self.data_path,\"r\", encoding='utf-8') \n",
    "        self.data_to_numpy(data)\n",
    "        data.close()\n",
    "        return True\n",
    "    \n",
    "    def data_to_numpy(self,data):\n",
    "        while True:\n",
    "            line = data.readline()\n",
    "            if not line: break\n",
    "            temp = []\n",
    "            line_data = line[:-1].split(\" \")\n",
    "            print(line_data)\n",
    "            temp.append(line_data[0])\n",
    "            temp.append(np.array(list(map(float, line_data[1:]))))\n",
    "            self.data.append(temp)\n",
    "        return\n",
    "    \n",
    "    def save_data(self):\n",
    "        file = open(self.data_path, \"w\")\n",
    "        tempstr = \"\"\n",
    "        for temp in self.data:\n",
    "            tempstr += temp[0]\n",
    "            for i in temp[1].tolist():\n",
    "                tempstr += \" \"\n",
    "                tempstr += str(i)\n",
    "            tempstr += \"\\n\"\n",
    "        file.write(tempstr)\n",
    "        file.close()\n",
    "    \n",
    "    def add_gesture(self,gesture_name):\n",
    "        maxcount = 50\n",
    "        temp = []\n",
    "        temp.append(gesture_name)\n",
    "        count = 0\n",
    "        tempdata = np.array([0,0,0,0])\n",
    "        while(count < maxcount):\n",
    "            res = self.ser.readline()\n",
    "            print(res.decode()[:len(res)])\n",
    "            print(np.array(res.decode()[:len(res)]))\n",
    "            \n",
    "            tempdata += np.array(list(map(int, res.decode()[:len(res)].split(\" \"))))\n",
    "            count += 1\n",
    "        \n",
    "        temp.append(tempdata/maxcount)\n",
    "        self.data.append(temp)\n",
    "        return\n",
    "    \n",
    "    def calculate_gesture(self,current):\n",
    "        temp_heap = []\n",
    "        heapq.heapify(temp_heap)\n",
    "        for i in self.data:\n",
    "            print(\"here\")\n",
    "            diff = i[1] - current\n",
    "            dis_sq = 0\n",
    "            for j in diff.tolist():\n",
    "                dis_sq += j * j\n",
    "            heapq.heappush(temp_heap, (dis_sq, i[0]))\n",
    "        return heapq.heappop(temp_heap)[1]\n",
    "    \n",
    "    def listen(self):\n",
    "        while True:\n",
    "            res = self.ser.readline()\n",
    "            print(res.decode()[:len(res)].split(\" \"))\n",
    "            current = np.array(list(map(float, res.decode()[:len(res)].split(\" \"))))\n",
    "            print(current)\n",
    "            self.gesture = self.calculate_gesture(current)\n",
    "            print(self.gesture)\n",
    "            \n",
    "    def listen_data(self):\n",
    "        while True:\n",
    "            res = self.ser.readline()\n",
    "            print(np.array(list(map(float, res.decode()[:len(res)].split(\" \")))))\n",
    "#             print(type(res.decode()[:len(res)]))\n",
    "        "
   ]
  },
  {
   "cell_type": "code",
   "execution_count": 113,
   "metadata": {
    "scrolled": true
   },
   "outputs": [
    {
     "name": "stdout",
     "output_type": "stream",
     "text": [
      "['loosen', '0.0', '0.0', '0.0', '0.0']\n"
     ]
    },
    {
     "data": {
      "text/plain": [
       "True"
      ]
     },
     "execution_count": 113,
     "metadata": {},
     "output_type": "execute_result"
    }
   ],
   "source": [
    "wr1 = wrist(\"rpf511\",4)\n",
    "wr1.get_data()"
   ]
  },
  {
   "cell_type": "code",
   "execution_count": 114,
   "metadata": {
    "scrolled": true
   },
   "outputs": [],
   "source": [
    "# wr1.add_gesture(\"loosen\")\n",
    "wr1.add_gesture(\"paper\")"
   ]
  },
  {
   "cell_type": "code",
   "execution_count": 115,
   "metadata": {},
   "outputs": [
    {
     "name": "stdout",
     "output_type": "stream",
     "text": [
      "[['loosen', array([0., 0., 0., 0.])]]\n"
     ]
    }
   ],
   "source": [
    "print(wr1.data)"
   ]
  },
  {
   "cell_type": "code",
   "execution_count": 116,
   "metadata": {},
   "outputs": [],
   "source": [
    "# wr1.save_data()"
   ]
  },
  {
   "cell_type": "code",
   "execution_count": 117,
   "metadata": {
    "scrolled": true
   },
   "outputs": [],
   "source": [
    "# wr1.listen_data()"
   ]
  },
  {
   "cell_type": "code",
   "execution_count": 118,
   "metadata": {},
   "outputs": [
    {
     "name": "stdout",
     "output_type": "stream",
     "text": [
      "['0', '0', '0', '0\\n']\n",
      "[0. 0. 0. 0.]\n",
      "here\n",
      "loosen\n",
      "['0', '0', '0', '0\\n']\n",
      "[0. 0. 0. 0.]\n",
      "here\n",
      "loosen\n",
      "['0', '0', '0', '0\\n']\n",
      "[0. 0. 0. 0.]\n",
      "here\n",
      "loosen\n",
      "['0', '0', '0', '0\\n']\n",
      "[0. 0. 0. 0.]\n",
      "here\n",
      "loosen\n",
      "['0', '0', '0', '0\\n']\n",
      "[0. 0. 0. 0.]\n",
      "here\n",
      "loosen\n",
      "['0', '0', '0', '0\\n']\n",
      "[0. 0. 0. 0.]\n",
      "here\n",
      "loosen\n",
      "['0', '0', '0', '0\\n']\n",
      "[0. 0. 0. 0.]\n",
      "here\n",
      "loosen\n",
      "['0', '0', '0', '0\\n']\n",
      "[0. 0. 0. 0.]\n",
      "here\n",
      "loosen\n",
      "['0', '0', '0', '0\\n']\n",
      "[0. 0. 0. 0.]\n",
      "here\n",
      "loosen\n",
      "['0', '0', '0', '0\\n']\n",
      "[0. 0. 0. 0.]\n",
      "here\n",
      "loosen\n",
      "['0', '0', '0', '0\\n']\n",
      "[0. 0. 0. 0.]\n",
      "here\n",
      "loosen\n",
      "['0', '0', '0', '0\\n']\n",
      "[0. 0. 0. 0.]\n",
      "here\n",
      "loosen\n",
      "['0', '0', '0', '0\\n']\n",
      "[0. 0. 0. 0.]\n",
      "here\n",
      "loosen\n",
      "['0', '0', '0', '0\\n']\n",
      "[0. 0. 0. 0.]\n",
      "here\n",
      "loosen\n",
      "['0', '0', '0', '0\\n']\n",
      "[0. 0. 0. 0.]\n",
      "here\n",
      "loosen\n",
      "['0', '0', '0', '0\\n']\n",
      "[0. 0. 0. 0.]\n",
      "here\n",
      "loosen\n",
      "['0', '0', '0', '0\\n']\n",
      "[0. 0. 0. 0.]\n",
      "here\n",
      "loosen\n",
      "['0', '0', '0', '0\\n']\n",
      "[0. 0. 0. 0.]\n",
      "here\n",
      "loosen\n",
      "['0', '0', '0', '0\\n']\n",
      "[0. 0. 0. 0.]\n",
      "here\n",
      "loosen\n",
      "['0', '0', '0', '0\\n']\n",
      "[0. 0. 0. 0.]\n",
      "here\n",
      "loosen\n",
      "['0', '0', '0', '0\\n']\n",
      "[0. 0. 0. 0.]\n",
      "here\n",
      "loosen\n",
      "['0', '0', '0', '0\\n']\n",
      "[0. 0. 0. 0.]\n",
      "here\n",
      "loosen\n",
      "['0', '0', '0', '0\\n']\n",
      "[0. 0. 0. 0.]\n",
      "here\n",
      "loosen\n",
      "['0', '0', '0', '0\\n']\n",
      "[0. 0. 0. 0.]\n",
      "here\n",
      "loosen\n",
      "['0', '0', '0', '0\\n']\n",
      "[0. 0. 0. 0.]\n",
      "here\n",
      "loosen\n",
      "['0', '0', '0', '0\\n']\n",
      "[0. 0. 0. 0.]\n",
      "here\n",
      "loosen\n",
      "['0', '0', '0', '0\\n']\n",
      "[0. 0. 0. 0.]\n",
      "here\n",
      "loosen\n",
      "['0', '0', '0', '0\\n']\n",
      "[0. 0. 0. 0.]\n",
      "here\n",
      "loosen\n",
      "['0', '0', '0', '0\\n']\n",
      "[0. 0. 0. 0.]\n",
      "here\n",
      "loosen\n",
      "['0', '0', '0', '0\\n']\n",
      "[0. 0. 0. 0.]\n",
      "here\n",
      "loosen\n",
      "['0', '0', '0', '0\\n']\n",
      "[0. 0. 0. 0.]\n",
      "here\n",
      "loosen\n",
      "['0', '0', '0', '0\\n']\n",
      "[0. 0. 0. 0.]\n",
      "here\n",
      "loosen\n"
     ]
    },
    {
     "ename": "KeyboardInterrupt",
     "evalue": "",
     "output_type": "error",
     "traceback": [
      "\u001b[0;31m---------------------------------------------------------------------------\u001b[0m",
      "\u001b[0;31mKeyboardInterrupt\u001b[0m                         Traceback (most recent call last)",
      "\u001b[0;32m<ipython-input-118-f3209e51e3b7>\u001b[0m in \u001b[0;36m<module>\u001b[0;34m\u001b[0m\n\u001b[0;32m----> 1\u001b[0;31m \u001b[0mwr1\u001b[0m\u001b[0;34m.\u001b[0m\u001b[0mlisten\u001b[0m\u001b[0;34m(\u001b[0m\u001b[0;34m)\u001b[0m\u001b[0;34m\u001b[0m\u001b[0;34m\u001b[0m\u001b[0m\n\u001b[0m",
      "\u001b[0;32m<ipython-input-112-ebdc302f3261>\u001b[0m in \u001b[0;36mlisten\u001b[0;34m(self)\u001b[0m\n\u001b[1;32m     73\u001b[0m     \u001b[0;32mdef\u001b[0m \u001b[0mlisten\u001b[0m\u001b[0;34m(\u001b[0m\u001b[0mself\u001b[0m\u001b[0;34m)\u001b[0m\u001b[0;34m:\u001b[0m\u001b[0;34m\u001b[0m\u001b[0;34m\u001b[0m\u001b[0m\n\u001b[1;32m     74\u001b[0m         \u001b[0;32mwhile\u001b[0m \u001b[0;32mTrue\u001b[0m\u001b[0;34m:\u001b[0m\u001b[0;34m\u001b[0m\u001b[0;34m\u001b[0m\u001b[0m\n\u001b[0;32m---> 75\u001b[0;31m             \u001b[0mres\u001b[0m \u001b[0;34m=\u001b[0m \u001b[0mself\u001b[0m\u001b[0;34m.\u001b[0m\u001b[0mser\u001b[0m\u001b[0;34m.\u001b[0m\u001b[0mreadline\u001b[0m\u001b[0;34m(\u001b[0m\u001b[0;34m)\u001b[0m\u001b[0;34m\u001b[0m\u001b[0;34m\u001b[0m\u001b[0m\n\u001b[0m\u001b[1;32m     76\u001b[0m             \u001b[0mprint\u001b[0m\u001b[0;34m(\u001b[0m\u001b[0mres\u001b[0m\u001b[0;34m.\u001b[0m\u001b[0mdecode\u001b[0m\u001b[0;34m(\u001b[0m\u001b[0;34m)\u001b[0m\u001b[0;34m[\u001b[0m\u001b[0;34m:\u001b[0m\u001b[0mlen\u001b[0m\u001b[0;34m(\u001b[0m\u001b[0mres\u001b[0m\u001b[0;34m)\u001b[0m\u001b[0;34m]\u001b[0m\u001b[0;34m.\u001b[0m\u001b[0msplit\u001b[0m\u001b[0;34m(\u001b[0m\u001b[0;34m\" \"\u001b[0m\u001b[0;34m)\u001b[0m\u001b[0;34m)\u001b[0m\u001b[0;34m\u001b[0m\u001b[0;34m\u001b[0m\u001b[0m\n\u001b[1;32m     77\u001b[0m             \u001b[0mcurrent\u001b[0m \u001b[0;34m=\u001b[0m \u001b[0mnp\u001b[0m\u001b[0;34m.\u001b[0m\u001b[0marray\u001b[0m\u001b[0;34m(\u001b[0m\u001b[0mlist\u001b[0m\u001b[0;34m(\u001b[0m\u001b[0mmap\u001b[0m\u001b[0;34m(\u001b[0m\u001b[0mfloat\u001b[0m\u001b[0;34m,\u001b[0m \u001b[0mres\u001b[0m\u001b[0;34m.\u001b[0m\u001b[0mdecode\u001b[0m\u001b[0;34m(\u001b[0m\u001b[0;34m)\u001b[0m\u001b[0;34m[\u001b[0m\u001b[0;34m:\u001b[0m\u001b[0mlen\u001b[0m\u001b[0;34m(\u001b[0m\u001b[0mres\u001b[0m\u001b[0;34m)\u001b[0m\u001b[0;34m]\u001b[0m\u001b[0;34m.\u001b[0m\u001b[0msplit\u001b[0m\u001b[0;34m(\u001b[0m\u001b[0;34m\" \"\u001b[0m\u001b[0;34m)\u001b[0m\u001b[0;34m)\u001b[0m\u001b[0;34m)\u001b[0m\u001b[0;34m)\u001b[0m\u001b[0;34m\u001b[0m\u001b[0;34m\u001b[0m\u001b[0m\n",
      "\u001b[0;32m~/anaconda3/lib/python3.7/site-packages/serial/serialposix.py\u001b[0m in \u001b[0;36mread\u001b[0;34m(self, size)\u001b[0m\n\u001b[1;32m    563\u001b[0m         \u001b[0;32mwhile\u001b[0m \u001b[0mlen\u001b[0m\u001b[0;34m(\u001b[0m\u001b[0mread\u001b[0m\u001b[0;34m)\u001b[0m \u001b[0;34m<\u001b[0m \u001b[0msize\u001b[0m\u001b[0;34m:\u001b[0m\u001b[0;34m\u001b[0m\u001b[0;34m\u001b[0m\u001b[0m\n\u001b[1;32m    564\u001b[0m             \u001b[0;32mtry\u001b[0m\u001b[0;34m:\u001b[0m\u001b[0;34m\u001b[0m\u001b[0;34m\u001b[0m\u001b[0m\n\u001b[0;32m--> 565\u001b[0;31m                 \u001b[0mready\u001b[0m\u001b[0;34m,\u001b[0m \u001b[0m_\u001b[0m\u001b[0;34m,\u001b[0m \u001b[0m_\u001b[0m \u001b[0;34m=\u001b[0m \u001b[0mselect\u001b[0m\u001b[0;34m.\u001b[0m\u001b[0mselect\u001b[0m\u001b[0;34m(\u001b[0m\u001b[0;34m[\u001b[0m\u001b[0mself\u001b[0m\u001b[0;34m.\u001b[0m\u001b[0mfd\u001b[0m\u001b[0;34m,\u001b[0m \u001b[0mself\u001b[0m\u001b[0;34m.\u001b[0m\u001b[0mpipe_abort_read_r\u001b[0m\u001b[0;34m]\u001b[0m\u001b[0;34m,\u001b[0m \u001b[0;34m[\u001b[0m\u001b[0;34m]\u001b[0m\u001b[0;34m,\u001b[0m \u001b[0;34m[\u001b[0m\u001b[0;34m]\u001b[0m\u001b[0;34m,\u001b[0m \u001b[0mtimeout\u001b[0m\u001b[0;34m.\u001b[0m\u001b[0mtime_left\u001b[0m\u001b[0;34m(\u001b[0m\u001b[0;34m)\u001b[0m\u001b[0;34m)\u001b[0m\u001b[0;34m\u001b[0m\u001b[0;34m\u001b[0m\u001b[0m\n\u001b[0m\u001b[1;32m    566\u001b[0m                 \u001b[0;32mif\u001b[0m \u001b[0mself\u001b[0m\u001b[0;34m.\u001b[0m\u001b[0mpipe_abort_read_r\u001b[0m \u001b[0;32min\u001b[0m \u001b[0mready\u001b[0m\u001b[0;34m:\u001b[0m\u001b[0;34m\u001b[0m\u001b[0;34m\u001b[0m\u001b[0m\n\u001b[1;32m    567\u001b[0m                     \u001b[0mos\u001b[0m\u001b[0;34m.\u001b[0m\u001b[0mread\u001b[0m\u001b[0;34m(\u001b[0m\u001b[0mself\u001b[0m\u001b[0;34m.\u001b[0m\u001b[0mpipe_abort_read_r\u001b[0m\u001b[0;34m,\u001b[0m \u001b[0;36m1000\u001b[0m\u001b[0;34m)\u001b[0m\u001b[0;34m\u001b[0m\u001b[0;34m\u001b[0m\u001b[0m\n",
      "\u001b[0;31mKeyboardInterrupt\u001b[0m: "
     ]
    }
   ],
   "source": [
    "wr1.listen()"
   ]
  },
  {
   "cell_type": "code",
   "execution_count": 90,
   "metadata": {},
   "outputs": [
    {
     "name": "stdout",
     "output_type": "stream",
     "text": [
      "1\n",
      "0 0 0 0\n",
      "\n",
      "0 0 0 0\n",
      "\n",
      "0 0 0 0\n",
      "\n",
      "0 0 0 0\n",
      "\n",
      "0 0 0 0\n",
      "\n",
      "0 0 0 0\n",
      "\n",
      "0 0 0 0\n",
      "\n",
      "0 0 0 0\n",
      "\n",
      "0 0 0 0\n",
      "\n",
      "0 0 0 0\n",
      "\n",
      "0 0 0 0\n",
      "\n",
      "0 0 0 0\n",
      "\n",
      "0 0 0 0\n",
      "\n",
      "0 0 0 0\n",
      "\n",
      "0 0 0 0\n",
      "\n",
      "0 0 0 0\n",
      "\n",
      "0 0 0 0\n",
      "\n",
      "0 0 0 0\n",
      "\n",
      "0 0 0 0\n",
      "\n",
      "0 0 0 0\n",
      "\n",
      "0 0 0 0\n",
      "\n",
      "0 0 0 0\n",
      "\n",
      "0 0 0 0\n",
      "\n",
      "0 0 0 0\n",
      "\n",
      "0 0 0 0\n",
      "\n",
      "0 0 0 0\n",
      "\n",
      "0 0 0 0\n",
      "\n",
      "0 0 0 0\n",
      "\n",
      "0 0 0 0\n",
      "\n",
      "0 0 0 0\n",
      "\n"
     ]
    },
    {
     "ename": "KeyboardInterrupt",
     "evalue": "",
     "output_type": "error",
     "traceback": [
      "\u001b[0;31m---------------------------------------------------------------------------\u001b[0m",
      "\u001b[0;31mKeyboardInterrupt\u001b[0m                         Traceback (most recent call last)",
      "\u001b[0;32m<ipython-input-90-e8fc4b025417>\u001b[0m in \u001b[0;36m<module>\u001b[0;34m\u001b[0m\n\u001b[1;32m     10\u001b[0m \u001b[0;34m\u001b[0m\u001b[0m\n\u001b[1;32m     11\u001b[0m \u001b[0;32mwhile\u001b[0m \u001b[0;32mTrue\u001b[0m\u001b[0;34m:\u001b[0m\u001b[0;34m\u001b[0m\u001b[0;34m\u001b[0m\u001b[0m\n\u001b[0;32m---> 12\u001b[0;31m         \u001b[0mres\u001b[0m \u001b[0;34m=\u001b[0m \u001b[0mser\u001b[0m\u001b[0;34m.\u001b[0m\u001b[0mreadline\u001b[0m\u001b[0;34m(\u001b[0m\u001b[0;34m)\u001b[0m\u001b[0;34m\u001b[0m\u001b[0;34m\u001b[0m\u001b[0m\n\u001b[0m\u001b[1;32m     13\u001b[0m         \u001b[0mprint\u001b[0m\u001b[0;34m(\u001b[0m\u001b[0mres\u001b[0m\u001b[0;34m.\u001b[0m\u001b[0mdecode\u001b[0m\u001b[0;34m(\u001b[0m\u001b[0;34m)\u001b[0m\u001b[0;34m[\u001b[0m\u001b[0;34m:\u001b[0m\u001b[0mlen\u001b[0m\u001b[0;34m(\u001b[0m\u001b[0mres\u001b[0m\u001b[0;34m)\u001b[0m\u001b[0;34m]\u001b[0m\u001b[0;34m)\u001b[0m\u001b[0;34m\u001b[0m\u001b[0;34m\u001b[0m\u001b[0m\n",
      "\u001b[0;32m~/anaconda3/lib/python3.7/site-packages/serial/serialposix.py\u001b[0m in \u001b[0;36mread\u001b[0;34m(self, size)\u001b[0m\n\u001b[1;32m    563\u001b[0m         \u001b[0;32mwhile\u001b[0m \u001b[0mlen\u001b[0m\u001b[0;34m(\u001b[0m\u001b[0mread\u001b[0m\u001b[0;34m)\u001b[0m \u001b[0;34m<\u001b[0m \u001b[0msize\u001b[0m\u001b[0;34m:\u001b[0m\u001b[0;34m\u001b[0m\u001b[0;34m\u001b[0m\u001b[0m\n\u001b[1;32m    564\u001b[0m             \u001b[0;32mtry\u001b[0m\u001b[0;34m:\u001b[0m\u001b[0;34m\u001b[0m\u001b[0;34m\u001b[0m\u001b[0m\n\u001b[0;32m--> 565\u001b[0;31m                 \u001b[0mready\u001b[0m\u001b[0;34m,\u001b[0m \u001b[0m_\u001b[0m\u001b[0;34m,\u001b[0m \u001b[0m_\u001b[0m \u001b[0;34m=\u001b[0m \u001b[0mselect\u001b[0m\u001b[0;34m.\u001b[0m\u001b[0mselect\u001b[0m\u001b[0;34m(\u001b[0m\u001b[0;34m[\u001b[0m\u001b[0mself\u001b[0m\u001b[0;34m.\u001b[0m\u001b[0mfd\u001b[0m\u001b[0;34m,\u001b[0m \u001b[0mself\u001b[0m\u001b[0;34m.\u001b[0m\u001b[0mpipe_abort_read_r\u001b[0m\u001b[0;34m]\u001b[0m\u001b[0;34m,\u001b[0m \u001b[0;34m[\u001b[0m\u001b[0;34m]\u001b[0m\u001b[0;34m,\u001b[0m \u001b[0;34m[\u001b[0m\u001b[0;34m]\u001b[0m\u001b[0;34m,\u001b[0m \u001b[0mtimeout\u001b[0m\u001b[0;34m.\u001b[0m\u001b[0mtime_left\u001b[0m\u001b[0;34m(\u001b[0m\u001b[0;34m)\u001b[0m\u001b[0;34m)\u001b[0m\u001b[0;34m\u001b[0m\u001b[0;34m\u001b[0m\u001b[0m\n\u001b[0m\u001b[1;32m    566\u001b[0m                 \u001b[0;32mif\u001b[0m \u001b[0mself\u001b[0m\u001b[0;34m.\u001b[0m\u001b[0mpipe_abort_read_r\u001b[0m \u001b[0;32min\u001b[0m \u001b[0mready\u001b[0m\u001b[0;34m:\u001b[0m\u001b[0;34m\u001b[0m\u001b[0;34m\u001b[0m\u001b[0m\n\u001b[1;32m    567\u001b[0m                     \u001b[0mos\u001b[0m\u001b[0;34m.\u001b[0m\u001b[0mread\u001b[0m\u001b[0;34m(\u001b[0m\u001b[0mself\u001b[0m\u001b[0;34m.\u001b[0m\u001b[0mpipe_abort_read_r\u001b[0m\u001b[0;34m,\u001b[0m \u001b[0;36m1000\u001b[0m\u001b[0;34m)\u001b[0m\u001b[0;34m\u001b[0m\u001b[0;34m\u001b[0m\u001b[0m\n",
      "\u001b[0;31mKeyboardInterrupt\u001b[0m: "
     ]
    }
   ],
   "source": [
    "\n",
    "\n",
    "ser = serial.Serial('/dev/ttyACM0',9600)\n",
    "time.sleep(2)\n",
    "\n",
    "id = 1\n",
    "id = str(id)\n",
    "\n",
    "print(id)\n",
    "\n",
    "while True:\n",
    "\tres = ser.readline()\n",
    "\tprint(res.decode()[:len(res)])"
   ]
  },
  {
   "cell_type": "code",
   "execution_count": null,
   "metadata": {},
   "outputs": [],
   "source": []
  }
 ],
 "metadata": {
  "kernelspec": {
   "display_name": "Python 3",
   "language": "python",
   "name": "python3"
  },
  "language_info": {
   "codemirror_mode": {
    "name": "ipython",
    "version": 3
   },
   "file_extension": ".py",
   "mimetype": "text/x-python",
   "name": "python",
   "nbconvert_exporter": "python",
   "pygments_lexer": "ipython3",
   "version": "3.7.3"
  }
 },
 "nbformat": 4,
 "nbformat_minor": 2
}
